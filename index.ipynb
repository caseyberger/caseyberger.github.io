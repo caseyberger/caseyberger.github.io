{
  "cells": [
    {
      "cell_type": "raw",
      "metadata": {},
      "source": [
        "---\n",
        "title: Casey E Berger\n",
        "format:\n",
        "  html:\n",
        "    toc: true\n",
        "  pdf:\n",
        "    toc: true\n",
        "    number-sections: true\n",
        "    colorlinks: true\n",
        "    self-contained: true\n",
        "editor: visual\n",
        "---"
      ],
      "id": "1bc0dc80"
    },
    {
      "cell_type": "markdown",
      "metadata": {},
      "source": [
        "Assistant Professor\\\n",
        "Physics and Statistical and Data Sciences\\\n",
        "Smith College\n",
        "\n",
        "## Interdisciplinary Science\n",
        "\n",
        "Life is more interesting on the boundaries!"
      ],
      "id": "f41e6aa4"
    },
    {
      "cell_type": "markdown",
      "metadata": {},
      "source": [
        "--- "
      ],
      "id": "74a3faf1"
    }
  ],
  "metadata": {
    "kernelspec": {
      "name": "python3",
      "language": "python",
      "display_name": "Python 3 (ipykernel)"
    }
  },
  "nbformat": 4,
  "nbformat_minor": 5
}