{
  "cells": [
    {
      "cell_type": "raw",
      "metadata": {},
      "source": [
        "---\n",
        "title: Casey E Berger\n",
        "format:\n",
        "  html:\n",
        "    toc: true\n",
        "  pdf:\n",
        "    toc: true\n",
        "    number-sections: true\n",
        "    colorlinks: true\n",
        "    self-contained: true\n",
        "editor: visual\n",
        "---"
      ],
      "id": "52d18ec0"
    },
    {
      "cell_type": "markdown",
      "metadata": {},
      "source": [
        "# Casey E. Berger\n",
        "\n",
        "Assistant Professor\\\n",
        "Physics and Statistical and Data Sciences\\\n",
        "Smith College\n",
        "\n",
        "## Interdisciplinary Science\n",
        "\n",
        "Life is more interesting on the boundaries!"
      ],
      "id": "2aa30611"
    }
  ],
  "metadata": {
    "kernelspec": {
      "display_name": "Python 3",
      "language": "python",
      "name": "python3"
    }
  },
  "nbformat": 4,
  "nbformat_minor": 5
}