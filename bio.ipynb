{
  "cells": [
    {
      "cell_type": "raw",
      "metadata": {},
      "source": [
        "---\n",
        "title: About Me\n",
        "format:\n",
        "  html:\n",
        "    toc: true\n",
        "  pdf:\n",
        "    toc: true\n",
        "    number-sections: true\n",
        "    colorlinks: true\n",
        "    self-contained: true\n",
        "editor: visual\n",
        "---"
      ],
      "id": "3733cd9b"
    },
    {
      "cell_type": "markdown",
      "metadata": {},
      "source": [
        "# Academic Bio\n",
        "\n",
        "I am an assistant professor of physics at Bates College. I have previously held positions as an assistant professor of physics and data science at Smith College and a postdoctoral research associate at Boston University in the physics department and the Hariri Institute for Computing. I earned my PhD from the University of North Carolina at Chapel Hill, where I was a Department of Energy Computational Science Graduate Fellow and a William Neal Reynolds fellow in the Royster Society of Fellows. My research is in computational and data science methods in many-body quantum mechanics.\\\n",
        "\\\n",
        "I also work on issues of diversity and equity in STEM, with an emphasis on improving representation and support of women, LGBTQ folks, BIPOC, and other underrepresented groups in STEM. When I'm not working in STEM and STEM-related pursuits, you can find me running, cooking, practicing photography, or writing."
      ],
      "id": "c133a1e3"
    }
  ],
  "metadata": {
    "kernelspec": {
      "name": "python3",
      "language": "python",
      "display_name": "Python 3 (ipykernel)"
    }
  },
  "nbformat": 4,
  "nbformat_minor": 5
}