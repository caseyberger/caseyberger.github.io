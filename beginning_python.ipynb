{
  "cells": [
    {
      "cell_type": "raw",
      "metadata": {},
      "source": [
        "---\n",
        "title: Beginning Python\n",
        "format:\n",
        "  html:\n",
        "    toc: true\n",
        "  pdf:\n",
        "    toc: true\n",
        "    number-sections: true\n",
        "    colorlinks: true\n",
        "    self-contained: true\n",
        "editor: visual\n",
        "---"
      ],
      "id": "c4cf43df"
    },
    {
      "cell_type": "markdown",
      "metadata": {},
      "source": [
        "If you're brand new to Python, this page will walk you through everything from installation to basic Python syntax. You can also find a list of [Additional References] for more detail and opportunities to practice.\n",
        "\n",
        "# Should I install Python or use a cloud-based environment?\n",
        "\n",
        "This depends on your own needs. If you want to be able to work offline, then you'll want to install Python on your local machine. But if you can reliably expect access to the internet, then an online service will be a lot quicker to start with and will prevent the need to manage updates, install special packages, or deal with software incompatibilities.\n",
        "\n",
        "In both cases, I recommend working with Jupyter notebooks to begin. A Jupyter notebook allows you to run code in small chunks as well as leave clear notes and documentation throughout. If you have worked with Posit or RStudio, you will already be familiar with how this works. If you haven't, don't worry! We will walk through it below.\n",
        "\n",
        "::: panel-tabset\n",
        "# Installing Python and JupyterLab\n",
        "\n",
        "# Accessing Google Colab\n",
        ":::\n",
        "\n",
        "# Using a Notebook (Jupyter or Colab)\n",
        "\n",
        "# Additional References\n",
        "\n",
        "Python's guide to [Python for Beginners](https://www.python.org/about/gettingstarted/)"
      ],
      "id": "4cf630ff"
    }
  ],
  "metadata": {
    "kernelspec": {
      "name": "python3",
      "language": "python",
      "display_name": "Python 3 (ipykernel)"
    }
  },
  "nbformat": 4,
  "nbformat_minor": 5
}