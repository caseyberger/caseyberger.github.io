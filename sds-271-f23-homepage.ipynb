{
  "cells": [
    {
      "cell_type": "raw",
      "metadata": {},
      "source": [
        "---\n",
        "title: SDS 271 Fall 2023\n",
        "format: html\n",
        "editor: visual\n",
        "---"
      ],
      "id": "2e5e879e"
    },
    {
      "cell_type": "markdown",
      "metadata": {},
      "source": [
        "Welcome to the Fall 2023 version of SDS 271: Advanced Programming for Data Science in Python!\n",
        "\n",
        "# Course Details and Other Help\n",
        "\n",
        "## Textbook\n",
        "The textbook is [Python for Data Analysis, 3rd edition](https://wesmckinney.com/book/), and is available for free online.\n",
        "\n",
        "## Syllabus and Schedule\n",
        "The course syllabus can be found [here](SDS271/F23/SDS-271-F23-Syllabus.pdf).\\\n",
        "\\\n",
        "The course schedule can be found [here](https://docs.google.com/spreadsheets/d/1cgGw0gnp9zf7X_boAl0-BlcDbxlrTiVobbfTav6SB0o/edit?usp=sharing). It will be updated regularly and is subject to change.\\\n",
        "\\\n",
        "\n",
        "## Accessing Compute Resources and Reporting Issues\n",
        "You can access the Smith JupyterHub server [here](https://jupyterhub.smith.edu/). You will need to log in with your Smith credentials. If you are off-campus, you will have to log into a VPN to get access. \\\n",
        "\\\n",
        "Instructions on how to install the Pulse Secure VPN can be found [on the Smith website] (https://www.smith.edu/its/tara/networking/vpn.html). You need to log in to the VPN with your Smith credentials before accessing JupyterHub. Once you've signed in (and done the Duo push), you should be able to access the server as normal.\\\n",
        "\\\n",
        "If you have a bug or connection issue to report, you can do so [here](https://forms.gle/yuu11ZZpEEyunkJe8).\\\n",
        "\\\n",
        "\n",
        "## Providing Feedback\n",
        "If you have feedback for me that you are not comfortable sharing directly but would like me to take into acocunt, please don't hesitate to leave it [here](https://forms.gle/UybDA8HT5KoD8kWRA). This form is entirely anonymous -- the only information I ask for is the class that this is about.\n",
        "\n",
        "# Labs\n",
        "\n",
        "## Lab 1\n",
        "[Lab 1](SDS271/F23/Lab1_clean.qmd) is all about getting started with JupyterHub and reviewing your previous Python experience."
      ],
      "id": "454344c0"
    }
  ],
  "metadata": {
    "kernelspec": {
      "name": "python3",
      "language": "python",
      "display_name": "Python 3 (ipykernel)"
    }
  },
  "nbformat": 4,
  "nbformat_minor": 5
}